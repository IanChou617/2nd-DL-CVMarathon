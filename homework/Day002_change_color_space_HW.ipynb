{
 "cells": [
  {
   "cell_type": "markdown",
   "metadata": {},
   "source": [
    "# 作業\n",
    "\n",
    "使用 [Lena](http://optipng.sourceforge.net/pngtech/img/lena.png)\n",
    "\n",
    "- 改變圖片的 color space (`HLS`, `LAB`) 並呈現"
   ]
  },
  {
   "cell_type": "code",
   "execution_count": 1,
   "metadata": {},
   "outputs": [],
   "source": [
    "import cv2\n",
    "import numpy\n",
    "\n",
    "image_gbr = cv2.imread('lena.png', cv2.IMREAD_COLOR)\n",
    "image_hls = cv2.cvtColor(image_gbr, cv2.COLOR_BGR2HLS)\n",
    "image_lab = cv2.cvtColor(image_gbr, cv2.COLOR_BGR2LAB)\n",
    "\n",
    "height, width, channel = image_gbr.shape\n",
    "text_pos_x = 10\n",
    "text_pos_y = 30\n",
    "concate_image = numpy.hstack((image_gbr[:, :, :], image_hls[:, :, :], image_lab[:, :, :]))\n",
    "\n",
    "\n",
    "cv2.putText(concat_image,'RGB',(text_pos_x, text_pos_y), cv2.FONT_HERSHEY_SIMPLEX, 1,(0,0,0),2)\n",
    "cv2.putText(concat_image,'HLS',(text_pos_x + width, text_pos_y), cv2.FONT_HERSHEY_SIMPLEX, 1,(0,0,0),2)\n",
    "cv2.putText(concat_image,'LAB',(text_pos_x + 2 * width, text_pos_y), cv2.FONT_HERSHEY_SIMPLEX, 1,(0,0,0),2)\n",
    "cv2.imshow('concate',concate_image)\n",
    "\n",
    "cv2.waitKey(0)\n",
    "cv2.destroyAllWindows()"
   ]
  },
  {
   "cell_type": "code",
   "execution_count": null,
   "metadata": {},
   "outputs": [],
   "source": []
  }
 ],
 "metadata": {
  "kernelspec": {
   "display_name": "Python 3",
   "language": "python",
   "name": "python3"
  },
  "language_info": {
   "codemirror_mode": {
    "name": "ipython",
    "version": 3
   },
   "file_extension": ".py",
   "mimetype": "text/x-python",
   "name": "python",
   "nbconvert_exporter": "python",
   "pygments_lexer": "ipython3",
   "version": "3.7.1-final"
  }
 },
 "nbformat": 4,
 "nbformat_minor": 2
}