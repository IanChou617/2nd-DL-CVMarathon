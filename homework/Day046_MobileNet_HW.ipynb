{
 "cells": [
  {
   "cell_type": "markdown",
   "metadata": {},
   "source": [
    "# 作業"
   ]
  },
  {
   "cell_type": "markdown",
   "metadata": {},
   "source": [
    "### 嘗試用 keras 的 DepthwiseConv2D 等 layers 實做 Separable Convolution.\n",
    "   - depthwise's filter shape 爲 (3,3), padding = same\n",
    "   - pointwise's filters size 爲 128\n",
    "   - 不需要給 alpha, depth multiplier 參數"
   ]
  },
  {
   "cell_type": "markdown",
   "metadata": {},
   "source": [
    "##### 載入套件"
   ]
  },
  {
   "cell_type": "code",
   "execution_count": 1,
   "metadata": {
    "collapsed": false
   },
   "outputs": [
    {
     "output_type": "stream",
     "name": "stderr",
     "text": "Using TensorFlow backend.\n"
    }
   ],
   "source": [
    "from keras.models import Input, Model\n",
    "from keras.layers import DepthwiseConv2D, Conv2D, BatchNormalization, ReLU"
   ]
  },
  {
   "cell_type": "markdown",
   "metadata": {},
   "source": [
    "##### 定義 Separable Convolution 函數 (請在此實做)"
   ]
  },
  {
   "cell_type": "code",
   "execution_count": 2,
   "metadata": {
    "collapsed": false
   },
   "outputs": [],
   "source": [
    "def SeparableConv(input):\n",
    "    layer = DepthwiseConv2D(kernel_size=(3,3),padding='same')(input)\n",
    "    layer = BatchNormalization()(layer)\n",
    "    layer = ReLU()(layer)\n",
    "    layer = Conv2D(filters=128, kernel_size = (1,1), padding = 'same')(layer)\n",
    "    layer = BatchNormalization(axis=-1)(layer)\n",
    "    layer = ReLU()(layer)\n",
    "\n",
    "\n",
    "    return layer\n"
   ]
  },
  {
   "cell_type": "markdown",
   "metadata": {},
   "source": [
    "##### 建構模型"
   ]
  },
  {
   "cell_type": "code",
   "execution_count": 3,
   "metadata": {
    "collapsed": false
   },
   "outputs": [
    {
     "output_type": "stream",
     "name": "stdout",
     "text": "WARNING:tensorflow:From C:\\Users\\IanChou\\Anaconda3\\envs\\ForGPU\\lib\\site-packages\\tensorflow\\python\\framework\\op_def_library.py:263: colocate_with (from tensorflow.python.framework.ops) is deprecated and will be removed in a future version.\nInstructions for updating:\nColocations handled automatically by placer.\n_________________________________________________________________\nLayer (type)                 Output Shape              Param #   \n=================================================================\ninput_1 (InputLayer)         (None, 64, 64, 3)         0         \n_________________________________________________________________\ndepthwise_conv2d_1 (Depthwis (None, 64, 64, 3)         30        \n_________________________________________________________________\nbatch_normalization_1 (Batch (None, 64, 64, 3)         12        \n_________________________________________________________________\nre_lu_1 (ReLU)               (None, 64, 64, 3)         0         \n_________________________________________________________________\nconv2d_1 (Conv2D)            (None, 64, 64, 128)       512       \n_________________________________________________________________\nbatch_normalization_2 (Batch (None, 64, 64, 128)       512       \n_________________________________________________________________\nre_lu_2 (ReLU)               (None, 64, 64, 128)       0         \n=================================================================\nTotal params: 1,066\nTrainable params: 804\nNon-trainable params: 262\n_________________________________________________________________\n"
    }
   ],
   "source": [
    "input = Input((64, 64, 3))\n",
    "output = SeparableConv(input)\n",
    "model = Model(inputs=input, outputs=output)\n",
    "model.summary()"
   ]
  },
  {
   "cell_type": "code",
   "execution_count": null,
   "metadata": {
    "collapsed": true
   },
   "outputs": [],
   "source": []
  }
 ],
 "metadata": {
  "kernelspec": {
   "display_name": "Python 3",
   "language": "python",
   "name": "python3"
  },
  "language_info": {
   "codemirror_mode": {
    "name": "ipython",
    "version": 3
   },
   "file_extension": ".py",
   "mimetype": "text/x-python",
   "name": "python",
   "nbconvert_exporter": "python",
   "pygments_lexer": "ipython3",
   "version": "3.7.1-final"
  }
 },
 "nbformat": 4,
 "nbformat_minor": 0
}