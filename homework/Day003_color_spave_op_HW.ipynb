{
 "cells": [
  {
   "cell_type": "markdown",
   "metadata": {},
   "source": [
    "# 作業\n",
    "\n",
    "實作各種不一樣的方式來調整飽和 / 對比 / 明亮\n",
    "\n",
    "1. 改變 color space 來調整飽和度\n",
    "2. 實作直方圖均衡\n",
    "3. alpha/ beta 調整對比 / 明亮"
   ]
  },
  {
   "cell_type": "code",
   "execution_count": null,
   "metadata": {},
   "outputs": [],
   "source": [
    "import cv2\n",
    "import numpy as np\n",
    "\n",
    "img_path = 'lena.png'\n",
    "\n",
    "# 以彩色圖片的方式載入\n",
    "image_gbr = cv2.imread('lena.png', cv2.IMREAD_COLOR)\n",
    "image_hsv = cv2.cvtColor(image_gbr, cv2.COLOR_BGR2HSV)"
   ]
  },
  {
   "cell_type": "markdown",
   "metadata": {},
   "source": [
    "## 改變飽和度\n",
    "\n",
    "- 轉換成 HSV color space, 改變 s channel 的值"
   ]
  },
  {
   "cell_type": "code",
   "execution_count": null,
   "metadata": {},
   "outputs": [],
   "source": [
    "change_percentage = 0.2\n",
    "\n",
    "# 針對飽和度的值做改變，超過界線 0~1 的都會 bound\n",
    "# 在 HLS color space 減少飽和度\n",
    "image_hsv_down = image_hsv.astype('float32')\n",
    "\n",
    "image_hsv_down[..., 1] = image_hsv_down[..., 1]/255 - change_percentage\n",
    "\n",
    "\n",
    "height, width, channel = image_hsv.shape\n",
    "image_hsv_down[... , 1] = (image_hsv_down[... , 1] *  255)\n",
    "image_hsv_down_protect = image_hsv_down.copy()\n",
    "\n",
    "for j in range(height):\n",
    "    for i in range(width):\n",
    "        if image_hsv_down_protect[j,i,1] < 0:\n",
    "            image_hsv_down_protect[j,i,1] = 0\n",
    "\n",
    "\n",
    "image_hsv_down[image_hsv_down[..., 1] < 0] = 0\n",
    "image_hsv_down          = image_hsv_down.astype('uint8')\n",
    "image_hsv_down_protect  = image_hsv_down_protect.astype('uint8')\n",
    "\n",
    "image_hsv_down          = cv2.cvtColor(image_hsv_down, cv2.COLOR_HSV2BGR)\n",
    "image_hsv_down_protect  = cv2.cvtColor(image_hsv_down_protect, cv2.COLOR_HSV2BGR)\n",
    "\n",
    "\n",
    "image_hsv_up            = image_hsv.astype('float32')\n",
    "image_hsv_up[..., 1]    = image_hsv_up[..., 1]/255 + change_percentage\n",
    "\n",
    "\n",
    "height, width, channel  = image_hsv.shape\n",
    "image_hsv_up[... , 1]   = (image_hsv_up[... , 1] *  255)\n",
    "\n",
    "for j in range(height):\n",
    "    for i in range(width):\n",
    "        if image_hsv_up[j,i,1] > 255:\n",
    "            image_hsv_up[j,i,1] = 255\n",
    "\n",
    "image_hsv_up  = image_hsv_up.astype('uint8')\n",
    "image_hsv_up  = cv2.cvtColor(image_hsv_up, cv2.COLOR_HSV2BGR)\n",
    "\n",
    "\n",
    "img_hsv_change = np.hstack((image_gbr[:,:,:],image_hsv_down_protect[:, :, :],image_hsv_up[:, :, :]))\n",
    "cv2.imshow('satuation reduced', img_hsv_change)\n",
    "cv2.waitKey(0)\n",
    "cv2.destroyAllWindows()"
   ]
  },
  {
   "cell_type": "markdown",
   "metadata": {},
   "source": [
    "## 直方圖均衡\n",
    "\n",
    "1. case 1: 把彩圖拆開對每個 channel 個別做直方圖均衡再組合起來\n",
    "2. case 2: 轉換 color space 到 HSV 之後對其中一個 channel 做直方圖均衡"
   ]
  },
  {
   "cell_type": "code",
   "execution_count": null,
   "metadata": {},
   "outputs": [],
   "source": [
    "# 每個 channel 個別做直方圖均衡\n",
    "image_g = image_gbr[:,:,0].copy()\n",
    "image_b = image_gbr[:,:,1].copy()\n",
    "image_r = image_gbr[:,:,2].copy()\n",
    "# 灰階圖片直方圖均衡\n",
    "img_g_equal = cv2.equalizeHist(image_g)\n",
    "img_b_equal = cv2.equalizeHist(image_b)\n",
    "img_r_equal = cv2.equalizeHist(image_r)\n",
    "\n",
    "# 組合經過直方圖均衡的每個 channel\n",
    "img_bgr_equal = np.array([img_g_equal, img_b_equal, img_r_equal])\n",
    "img_bgr_equal = img_bgr_equal.transpose(1,2,0)\n",
    "\n",
    "image_h = image_hsv[:,:,0].copy()\n",
    "image_s = image_hsv[:,:,1].copy()\n",
    "image_v = image_hsv[:,:,2].copy()\n",
    "\n",
    "# 灰階圖片直方圖均衡\n",
    "img_v_equal = cv2.equalizeHist(image_v)\n",
    "\n",
    "img_hsv_equal = np.array([image_h, image_s, img_v_equal])\n",
    "img_hsv_equal = img_hsv_equal.transpose(1,2,0)\n",
    "\n",
    "img_hsv_equal = cv2.cvtColor(img_hsv_equal,cv2.COLOR_HSV2BGR)\n",
    "\n",
    "img_bgr_equalHist = np.hstack((image_gbr, img_bgr_equal, img_hsv_equal))\n",
    "cv2.imshow('bgr equal histogram', img_bgr_equalHist)\n",
    "cv2.waitKey(0)\n",
    "cv2.destroyAllWindows()"
   ]
  },
  {
   "cell_type": "markdown",
   "metadata": {},
   "source": [
    "## 調整對比 / 明亮"
   ]
  },
  {
   "cell_type": "code",
   "execution_count": null,
   "metadata": {},
   "outputs": [],
   "source": [
    "# alpha: 控制對比度 (1.0~3.0)\n",
    "# beta: 控制明亮度 (0~255)\n",
    "add_contrast = cv2.convertScaleAbs(image_gbr, alpha=0.5, beta=0)\n",
    "add_lighness = cv2.convertScaleAbs(image_gbr, alpha=1.0, beta=30)\n",
    "\n",
    "# 組合圖片 + 顯示圖片\n",
    "img_contrast_light = np.hstack((image_gbr, add_contrast, add_lighness))\n",
    "cv2.imshow('adjust contrast and brighness', img_contrast_light)\n",
    "cv2.waitKey(0)\n",
    "cv2.destroyAllWindows()"
   ]
  }
 ],
 "metadata": {
  "kernelspec": {
   "display_name": "Python 3",
   "language": "python",
   "name": "python3"
  },
  "language_info": {
   "codemirror_mode": {
    "name": "ipython",
    "version": 3
   },
   "file_extension": ".py",
   "mimetype": "text/x-python",
   "name": "python",
   "nbconvert_exporter": "python",
   "pygments_lexer": "ipython3",
   "version": "3.6.8"
  }
 },
 "nbformat": 4,
 "nbformat_minor": 2
}